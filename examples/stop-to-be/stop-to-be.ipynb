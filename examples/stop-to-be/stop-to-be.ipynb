{
  "cells": [
    {
      "cell_type": "code",
      "metadata": {
        "jukit_cell_id": "hHQyI1cQTZ"
      },
      "source": [
        "from numba import njit\n",
        "from quantbt.core.enums import Trade, OrderDirection\n",
        "\n",
        "\n",
        "\"\"\"\n",
        "The function will accept 3 arguments by default:\n",
        "1. active_trades: A list of all the currently active trades (NOT orders)\n",
        "2. data: the original OHLC or tick by tick data you have passed to the strategy\n",
        "3. index: The index of the current tick iteration\n",
        "\"\"\"\n",
        "\n",
        "\n",
        "@njit(cache=True)\n",
        "def stop_to_be_nb(active_trades, data, index):\n",
        "    current_low = data.low[index]\n",
        "    current_high = data.high[index]\n",
        "    for trade in active_trades:  # (1)!\n",
        "        # Pass if we have already moved the SL to breakeven\n",
        "        if trade[Trade.EntryPrice.value] == trade[Trade.SL.value]:  # (2)!\n",
        "            continue\n",
        "\n",
        "        entry_index = trade[Trade.Index.value]  # (3)!\n",
        "        trade_entry_low = data.low[int(entry_index)]  # (4)!\n",
        "        trade_entry_high = data.high[int(entry_index)]\n",
        "\n",
        "        direction = trade[Trade.Direction.value]\n",
        "\n",
        "        if direction == OrderDirection.SHORT.value:\n",
        "            if current_low < trade_entry_low:\n",
        "                trade[Trade.SL.value] = trade[Trade.EntryPrice.value]  # (5)!\n",
        "        else:\n",
        "            if current_high > trade_entry_high:\n",
        "                trade[Trade.SL.value] = trade[Trade.EntryPrice.value]"
      ],
      "outputs": [],
      "execution_count": null
    },
    {
      "cell_type": "code",
      "metadata": {
        "jukit_cell_id": "CxTRvz23qs"
      },
      "source": [
        "import quantbt as qbt\n",
        "import quantbt.indicators as ind\n",
        "from quantbt.strategies.S_base import S_base\n",
        "from quantbt.core.enums import CommissionType, DataType, TradeSizeType\n",
        "\n",
        "data = qbt.data.random_data(seed=300)[0]\n",
        "\n",
        "\n",
        "class MyStrategy(S_base):\n",
        "    def generate_signals(self):\n",
        "        short_period, long_period = self.params\n",
        "\n",
        "        self.sma_short = ind.talib_SMA(data.close, period=short_period)\n",
        "        self.sma_long = ind.talib_SMA(data.close, period=long_period)\n",
        "        self.long = ind.cross_above(self.sma_short, self.sma_long)\n",
        "        self.short = ind.cross_below(self.sma_short, self.sma_long)\n",
        "\n",
        "        return {\n",
        "            \"long_entries\": self.long,\n",
        "            \"long_exits\": self.short,\n",
        "            \"short_entries\": self.short,\n",
        "            \"short_exits\": self.long,\n",
        "        }\n",
        "\n",
        "\n",
        "strategy_settings = {\n",
        "    \"initial_capital\": 100_000,\n",
        "    \"commission\": 1.2,\n",
        "    \"commission_type\": CommissionType.FIXED,\n",
        "    \"multiplier\": 20,\n",
        "    \"data_type\": DataType.OHLC,\n",
        "    \"default_trade_size\": 1,\n",
        "    \"trade_size_type\": TradeSizeType.FIXED,\n",
        "}"
      ],
      "outputs": [],
      "execution_count": null
    },
    {
      "cell_type": "code",
      "metadata": {
        "jukit_cell_id": "WLPXhGe6Vt"
      },
      "source": [
        "params = (5, 23)\n",
        "\n",
        "\"\"\"\n",
        "Run the backtester without stop to be\n",
        "\"\"\"\n",
        "st = MyStrategy(data, **strategy_settings)\n",
        "st.from_signals(params)\n",
        "\n",
        "\"\"\"\n",
        "Run the backtester with stop to be\n",
        "\"\"\"\n",
        "st_with_be = MyStrategy(data, stop_to_be=stop_to_be_nb, **strategy_settings)\n",
        "st_with_be.from_signals(params)\n",
        "\n",
        "\n",
        "stats = st.get_stats()\n",
        "stats_with_be = st_with_be.get_stats()\n",
        "\n",
        "print(\"Stats without stop to BE:\")\n",
        "print(stats)\n",
        "\n",
        "print()\n",
        "print(\"Stats with stop to BE:\")\n",
        "print(stats_with_be)"
      ],
      "outputs": [
        {
          "output_type": "stream",
          "name": "stdout",
          "text": "Stats without stop to BE:\n            End Value  ROI: (%)    DD     ratio\n(5, 23)  98809.007812     -1.19  1.92 -0.619792\n\nStats with stop to BE:\n            End Value  ROI: (%)    DD     ratio\n(5, 23)  99550.835938     -0.45  0.65 -0.692308\n"
        }
      ],
      "execution_count": 1
    }
  ],
  "metadata": {
    "anaconda-cloud": {},
    "kernelspec": {
      "display_name": "python",
      "language": "python",
      "name": "python3"
    }
  },
  "nbformat": 4,
  "nbformat_minor": 4
}
