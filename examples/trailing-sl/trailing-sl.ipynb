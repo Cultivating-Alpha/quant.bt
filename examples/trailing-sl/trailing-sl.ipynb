{
  "cells": [
    {
      "cell_type": "code",
      "metadata": {
        "jukit_cell_id": "hHQyI1cQTZ"
      },
      "source": [
        "import talib\n",
        "from numba import njit\n",
        "from quantbt.lib import np\n",
        "\n",
        "\n",
        "@njit\n",
        "def calculate_trailing_exit(high, low, rsi):\n",
        "    trailing_long = np.full(len(high), 0, dtype=np.float64)\n",
        "    trailing_short = np.full(len(high), 0, dtype=np.float64)\n",
        "\n",
        "    for i in range(len(rsi)):\n",
        "        if rsi[i] > 70 and rsi[i - 1] < 70:\n",
        "            trailing_long[i] = low[i]\n",
        "        elif rsi[i] < 30 and rsi[i - 1] > 30:\n",
        "            trailing_short[i] = high[i]\n",
        "\n",
        "    return trailing_long, trailing_short"
      ],
      "outputs": [],
      "execution_count": null
    },
    {
      "cell_type": "code",
      "metadata": {
        "jukit_cell_id": "CxTRvz23qs"
      },
      "source": [
        "import quantbt as qbt\n",
        "import quantbt.indicators as ind\n",
        "from quantbt.strategies.S_base import S_base\n",
        "from quantbt.core.enums import CommissionType, DataType, TradeSizeType\n",
        "\n",
        "data = qbt.data.random_data(seed=300)[0]\n",
        "\n",
        "\n",
        "class MyStrategy(S_base):\n",
        "    def generate_signals(self):\n",
        "        short_period, long_period = self.params\n",
        "\n",
        "        self.sma_short = ind.talib_SMA(data.close, period=short_period)\n",
        "        self.sma_long = ind.talib_SMA(data.close, period=long_period)\n",
        "        self.long = ind.cross_above(self.sma_short, self.sma_long)\n",
        "        self.short = ind.cross_below(self.sma_short, self.sma_long)\n",
        "\n",
        "        self.rsi = talib.RSI(data.close, timeperiod=14)\n",
        "        self.trailing_sl_long, self.trailing_sl_short = calculate_trailing_exit(\n",
        "            data.high.values, data.low.values, self.rsi.values\n",
        "        )\n",
        "        return {\n",
        "            \"long_entries\": self.long,\n",
        "            \"long_exits\": self.short,\n",
        "            \"short_entries\": self.short,\n",
        "            \"short_exits\": self.long,\n",
        "            \"trailing_sl_long\": self.trailing_sl_long,\n",
        "            \"trailing_sl_short\": self.trailing_sl_short,\n",
        "        }\n",
        "\n",
        "\n",
        "strategy_settings = {\n",
        "    \"initial_capital\": 100_000,\n",
        "    \"commission\": 1.2,\n",
        "    \"commission_type\": CommissionType.FIXED,\n",
        "    \"multiplier\": 20,\n",
        "    \"data_type\": DataType.OHLC,\n",
        "    \"default_trade_size\": 1,\n",
        "    \"trade_size_type\": TradeSizeType.FIXED,\n",
        "    \"use_trailing_sl\": False,\n",
        "}"
      ],
      "outputs": [],
      "execution_count": null
    },
    {
      "cell_type": "code",
      "metadata": {
        "jukit_cell_id": "WLPXhGe6Vt"
      },
      "source": [
        "params = (5, 23)\n",
        "\n",
        "\"\"\"\n",
        "Run the backtester without stop to be\n",
        "\"\"\"\n",
        "st = MyStrategy(data, **strategy_settings)\n",
        "st.from_signals(params)\n",
        "stats = st.get_stats()\n",
        "print(stats)\n",
        "\n",
        "\n",
        "strategy_settings[\"use_trailing_sl\"] = True\n",
        "st_tsl = MyStrategy(data, **strategy_settings)\n",
        "st_tsl.from_signals(params)\n",
        "stats = st_tsl.get_stats()\n",
        "print(stats)"
      ],
      "outputs": [
        {
          "output_type": "stream",
          "name": "stdout",
          "text": "            End Value  ROI: (%)    DD     ratio\n(5, 23)  98809.007812     -1.19  1.92 -0.619792\n            End Value  ROI: (%)   DD  ratio\n(5, 23)  98719.265625     -1.28  1.6   -0.8\n"
        }
      ],
      "execution_count": 1
    }
  ],
  "metadata": {
    "anaconda-cloud": {},
    "kernelspec": {
      "display_name": "python",
      "language": "python",
      "name": "python3"
    }
  },
  "nbformat": 4,
  "nbformat_minor": 4
}